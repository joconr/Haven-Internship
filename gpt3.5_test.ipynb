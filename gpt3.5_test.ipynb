{
 "cells": [
  {
   "cell_type": "code",
   "execution_count": 2,
   "id": "2488afab",
   "metadata": {
    "scrolled": false
   },
   "outputs": [
    {
     "name": "stdout",
     "output_type": "stream",
     "text": [
      "········\n",
      "Concrete Applied Technologies Corp dba CATCO is seeking quotes from Certified Minority and Women Business Owned Enterprises for the Reconstruction of Kenmore Ave - County Road 189 project. The plans and specifications for the project can be found at a provided link. The due date for quotes is March 13, 2023, and the contract term is until November 30, 2023. The project is not a Service-Disabled Veteran-Owned Set Aside, but has Minority Owned Sub-Contracting Goal of 10% and Women Owned Sub-Contracting Goal of 2%. The primary contact for the project is Crystal Waldby, EEO Director, and all quotes should be sent to estimating@catco.com.\n",
      "476\n",
      "The government is planning to solicit a contract for the Yancey Road Reconstruction project in Giles County, Virginia. The project involves the removal of a culvert and its replacement with a new one. The work includes mobilization, drainage structure survey, excavation, backfill, riprap placement, culvert installation, and seeding. The contract will be awarded to the lowest priced technically acceptable offeror. The project is set-aside 100% for small businesses, and the size standard is $39.5M. The magnitude of the project is between $25,000 and $100,000. The solicitation and related documents will be available for download on or about 02-05-2023, and interested vendors should register to receive notifications through the SAM website. The tentative dates for the site visit, questions, and solicitation due dates have been changed in Amendment 0001.\n",
      "1108\n",
      "The project is titled \"Gettysburg/Norwich Alley Reconstruction\" and is in the bidding stage with a bid due date of November 1, 2022. The response format is paper, and the type of award is lump sum. The project falls under categories such as road and highway building materials, paving/resurfacing alley and parking lot, construction of parking lot and alley, and paving/resurfacing alley and parking lot. The estimated bid value is not mentioned, and there is no online Q&A. The scope of services includes the reconstruction of the Gettysburg/Norwich Alley, including constructing a valley gutter, drive approaches, and adjusting utilities to grade. There is no pre-bid meeting scheduled. The project is located in Clovis, California, and is being managed by the Engineering Division of the Planning and Development Department.\n",
      "472\n",
      "The contract work involves providing all necessary labor, materials, machinery, tools, equipment, and other means of construction for the completion of roadway widening and reconstruction as shown on the plans and described in the specifications. The contract is open to all business entities and has a due date of February 23, 2023, at 2:00 PM. The contract term is not specified, and the location is in Montgomery County, New York. There is no set-aside for service-disabled veteran-owned businesses, and no identical or substantially similar procurement contract has been awarded in the past five years. The technical contact is Chris Cornwell, the project manager for GPI, and the primary contact is Jaclyn Hernigle, the purchasing agent for Montgomery County. The submission should be made to Jaclyn Hernigle.\n",
      "452\n",
      "Dolomite Products DBA A.L. Blades is seeking quotes from DBE Subcontractors / All Subcontractors for Griffiss Airport - Apron 1 & 2 Reconstruction Phase 1. The bid date is 3/21/23, and interested parties should submit quotes prior to this date. The project information can be obtained on most bidding sites such as Syracuse builder Exchange or purchased at Oneida County Purchasing. The project is not a Service-Disabled Veteran-Owned Set Aside, and the Disadvantaged Owned Sub-Contracting Goal is 7.7%. The primary contact for the project is Kristina Shade, Construction Coordinator/Estimator, and all quotes should be sent to her via email at Kristina.Strang@callanan.com.\n",
      "459\n",
      "James H. Maloy, Inc. is seeking quotes from certified DBE/MBE/WBE subcontractors and suppliers for a bid on March 1, 2023, for the reconstruction of the Clinton North Parking lot and improvements to a 250-foot section of Barrett Street in the City of Schenectady, Schenectady County, New York. The project has sub-contracting goals of 15% for minority-owned businesses, 15% for women-owned businesses, and 6% for service-disabled veteran-owned businesses. The due date for submission is March 3, 2023. Interested parties can contact John Maloy, the project manager, for further information.\n",
      "476\n",
      "Grace Industries LLC is looking for proposals from qualified MWBE firms for various scopes of work, including Asphalt, Plumbing, Drainage Cleaning, and Trucking. The company is an Equal Opportunity Employer and has set a total MWBE participation goal of 28%. Plans and specifications will be provided upon request. The due date for submission is December 16, 2022, and the location is in Brooklyn, NY. The primary contact for this contract work is Tim Mullarkey, the Chief Estimator, and the submission should be sent to him via email or fax.\n",
      "340\n",
      "The government is seeking hauling and excavating companies to potentially work on a Stormwater Detention Basin project.\n",
      "71\n",
      "Kubricky Construction Corporation (KCC) is seeking quotes from qualified subcontractors, services, material suppliers, and trucking firms for the Margaret Street Reconstruction and Brinkerhoff Street/Court Street Rehabilitation project in the City of Plattsburgh. KCC is encouraging Certified New York Minority Owned, Women Owned, Service-Disabled Veteran-Owned Businesses, Disadvantaged Owned Businesses, and any other interested subcontractors and/or suppliers to submit quotes. The contract documents can be obtained by contacting the Estimating Administrator, and quotes should be received by the end of business on February 20th. The contract term is until July 31st, 2023, and the project is located in various locations in Clinton County. The primary contact is Sara LeClair, the Estimating Administrator.\n",
      "508\n",
      "The contract work involves pavement milling, crack repair, and repaving of tennis courts, as well as the removal and installation of new posts and netting. The project also includes the installation of a 3 coat surfacing system and relining of the courts. The contract is not set aside for any specific group, and there are no subcontracting goals for minority-owned, women-owned, service-disabled veteran-owned, or disadvantaged-owned businesses. The due date for submission is November 29, 2022, and the contract term is for completion in 2023. The location of the project is Riverfront Park in Rensselaer County, New York. The primary contact for the project is Ketura Vics, the Planning Director for the City of Rensselaer, and the secondary contact is Mark Hendricks, an Engineering Aide. The submission should be made to the City Clerk's Office, and the previous contractors for similar projects were Canaday Sweepers, Inc. and New Castle Paving, LLC.\n",
      "623\n"
     ]
    }
   ],
   "source": [
    "import mysql.connector\n",
    "import openai\n",
    "from bs4 import BeautifulSoup\n",
    "from getpass import getpass\n",
    "\n",
    "# Connect to the MySQL database\n",
    "conn = mysql.connector.connect(host='tylerathomas0.lmu.build', database='tylerath_opportunities', user='tylerath_opps', password='--')\n",
    "cursor = conn.cursor()\n",
    "\n",
    "# Set up OpenAI API credentials\n",
    "openai.api_key = getpass()\n",
    "\n",
    "# Retrieve the description column data\n",
    "cursor.execute(\"SELECT description FROM 10construction\")\n",
    "descriptions = cursor.fetchall()\n",
    "\n",
    "# Loop through each description, extract the text using BeautifulSoup, and generate a summary using OpenAI API\n",
    "for description in descriptions:\n",
    "    html = description[0] # Assuming the HTML code is stored in the first column\n",
    "    soup = BeautifulSoup(html, 'html.parser')\n",
    "    text = soup.get_text()\n",
    "    #implementing chatgpt api\n",
    "    response = openai.ChatCompletion.create(\n",
    "    model='gpt-3.5-turbo',\n",
    "    messages=[\n",
    "        #system predefined message. can be used to define number of characters and whatnot. Telling the model what it is.\n",
    "        {\"role\": \"system\", \"content\": \"You summarize opportunities from various government industries.\"},\n",
    "        #what a user would type in, using it as our instruction\n",
    "        {\"role\": \"user\", \"content\": f'Summarize the contract work detail in the following text: \"{text}\"'}\n",
    "    ],\n",
    "    temperature=0,\n",
    "    )\n",
    "    summary = response['choices'][0]['message']['content']\n",
    "    descTokens = response['usage']['total_tokens']\n",
    "    print(summary)\n",
    "    print(descTokens)\n",
    "\n",
    "    # Insert cleaned text and summary into 'bsdesc' and 'chatgptdesc' columns, respectively\n",
    "    cursor.execute(\"UPDATE 10construction SET chatgptdesc = %s WHERE description = %s\", (summary, html))\n",
    "    cursor.execute(\"UPDATE 10construction SET descTokens = %s WHERE description = %s\", (descTokens, html))\n",
    "\n",
    "    # Commit changes to the database\n",
    "    conn.commit()\n",
    "\n",
    "# Close database connection \n",
    "conn.close()"
   ]
  }
 ],
 "metadata": {
  "kernelspec": {
   "display_name": "Python 3 (ipykernel)",
   "language": "python",
   "name": "python3"
  },
  "language_info": {
   "codemirror_mode": {
    "name": "ipython",
    "version": 3
   },
   "file_extension": ".py",
   "mimetype": "text/x-python",
   "name": "python",
   "nbconvert_exporter": "python",
   "pygments_lexer": "ipython3",
   "version": "3.9.7"
  }
 },
 "nbformat": 4,
 "nbformat_minor": 5
}
