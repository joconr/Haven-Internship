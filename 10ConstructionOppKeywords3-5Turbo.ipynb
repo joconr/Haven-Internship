{
 "cells": [
  {
   "cell_type": "code",
   "execution_count": 5,
   "id": "dd0ef40f",
   "metadata": {
    "scrolled": true
   },
   "outputs": [
    {
     "name": "stdout",
     "output_type": "stream",
     "text": [
      "········\n",
      "Concrete, Technologies, Reconstruction, Kenmore Ave, County Road, Quotes, Certified, Minority, Women, Business, Enterprises, Plans, Specifications, Due date, Contract term, Sub-contracting, EEO Director, Estimating.\n",
      "257\n",
      "Government contract, Yancey Road, Reconstruction project, Giles County, Virginia, Culvert replacement, Mobilization, Drainage structure survey, Excavation, Backfill, Riprap placement, Culvert installation, Seeding, Lowest priced technically acceptable offeror, Small businesses, Size standard, $39.5M, Magnitude, $25,000-$100,000, Solicitation, Related documents, Download, SAM website, Site visit, Questions, Amendment 0001.\n",
      "345\n",
      "Gettysburg/Norwich Alley, Reconstruction, Bidding stage, Bid due date, Paper format, Lump sum award, Road building materials, Highway building materials, Paving, Resurfacing, Parking lot construction, Alley construction, Estimated bid value, Scope of services, Valley gutter, Drive approaches, Adjusting utilities, Grade, Clovis, California, Engineering Division, Planning and Development Department.\n",
      "321\n",
      "Contract work, Labor, Materials, Machinery, Tools, Equipment, Construction, Roadway widening, Reconstruction, Plans, Specifications, Business entities, Due date, Contract term, Montgomery County, New York, Service-disabled veteran-owned businesses, Procurement contract, Technical contact, Project manager, GPI, Primary contact, Purchasing agent, Submission.\n",
      "297\n",
      "Dolomite Products, A.L. Blades, DBE Subcontractors, All Subcontractors, Griffiss Airport, Apron 1, Apron 2, Reconstruction, Phase 1, bid date, project information, bidding sites, Syracuse Builder Exchange, Oneida County Purchasing, Service-Disabled Veteran-Owned Set Aside, Disadvantaged Owned Sub-Contracting Goal, Kristina Shade, Construction Coordinator, Estimator, email.\n",
      "312\n",
      "DBE, MBE, WBE, subcontractors, suppliers, bid, reconstruction, parking lot, improvements, Barrett Street, Schenectady, New York, sub-contracting goals, minority-owned businesses, women-owned businesses, service-disabled veteran-owned businesses, due date, submission, project manager.\n",
      "270\n",
      "MWBE, proposals, Asphalt, Plumbing, Drainage Cleaning, Trucking, Equal Opportunity Employer, participation goal, plans, specifications, submission, due date, Brooklyn, NY, Chief Estimator, email, fax.\n",
      "226\n",
      "government, hauling, excavating, companies, Stormwater Detention Basin, project.\n",
      "106\n",
      "Kubricky Construction Corporation, subcontractors, material suppliers, trucking firms, Margaret Street Reconstruction, Brinkerhoff Street, Court Street Rehabilitation, Certified New York Minority Owned, Women Owned, Service-Disabled Veteran-Owned Businesses, Disadvantaged Owned Businesses, contract documents, Estimating Administrator, quotes, contract term, primary contact.\n",
      "282\n",
      "Pavement milling, crack repair, repaving, tennis courts, posts, netting, surfacing system, relining, contract, due date, completion, Riverfront Park, Rensselaer County, New York, Planning Director, Engineering Aide, City Clerk's Office, previous contractors.\n",
      "337\n"
     ]
    }
   ],
   "source": [
    "import mysql.connector\n",
    "import os\n",
    "import openai\n",
    "from getpass import getpass\n",
    "\n",
    "# Connect to the MySQL database\n",
    "conn = mysql.connector.connect(host='tylerathomas0.lmu.build', database='tylerath_opportunities', user='tylerath_opps', password='--')\n",
    "cursor = conn.cursor()\n",
    "\n",
    "openai.api_key = getpass()\n",
    "\n",
    "# Retrieve the cleaned description column data\n",
    "cursor.execute(\"SELECT chatgptdesc FROM 10construction\")\n",
    "chatgptdescs = cursor.fetchall()\n",
    "\n",
    "# Loop through each cleaned description and generate keywords using OpenAI gpt-3.5-turbo model\n",
    "for chatgptdesc in chatgptdescs:\n",
    "    cleanDesc = chatgptdesc[0]\n",
    "    response = openai.ChatCompletion.create(\n",
    "    model='gpt-3.5-turbo',\n",
    "    messages=[\n",
    "        #system predefined message. can be used to define number of characters and whatnot. Telling the model what it is.\n",
    "        {\"role\": \"system\", \"content\": \"You are an assistant generating keywords relating ONLY to the work detail in the prompts given by the user. Keywords should be one to two words only. The generated keywords should be separated by commas.\"},\n",
    "        #what a user would type in, using it as our instruction\n",
    "        {\"role\": \"user\", \"content\": f'Generate keywords for the following prompt. Ignore any names, dates, and emails: \"{cleanDesc}\"'}\n",
    "    ],\n",
    "    temperature=0,\n",
    "    )\n",
    "    keywords = response['choices'][0]['message']['content']\n",
    "    tokens = response['usage']['total_tokens']\n",
    "    print(keywords)\n",
    "    print(tokens)\n",
    "    \n",
    "    # Insert cleaned text and summary into the 'generated_keywords' column\n",
    "    cursor.execute(\"UPDATE 10construction SET generated_keywords = %s WHERE chatgptdesc = %s\", (keywords, cleanDesc))\n",
    "    cursor.execute(\"UPDATE 10construction SET tokens = %s WHERE chatgptdesc = %s\", (tokens, cleanDesc))\n",
    "    \n",
    "    # commit changes to the database\n",
    "    conn.commit()\n",
    "conn.close()"
   ]
  }
 ],
 "metadata": {
  "kernelspec": {
   "display_name": "Python 3 (ipykernel)",
   "language": "python",
   "name": "python3"
  },
  "language_info": {
   "codemirror_mode": {
    "name": "ipython",
    "version": 3
   },
   "file_extension": ".py",
   "mimetype": "text/x-python",
   "name": "python",
   "nbconvert_exporter": "python",
   "pygments_lexer": "ipython3",
   "version": "3.9.7"
  }
 },
 "nbformat": 4,
 "nbformat_minor": 5
}
